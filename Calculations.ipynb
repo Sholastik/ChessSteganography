{
 "cells": [
  {
   "cell_type": "code",
   "execution_count": 9,
   "metadata": {},
   "outputs": [],
   "source": [
    "# Максимальная длина непрерывной последовательности\n",
    "look_to = 8\n",
    "\n",
    "# Разбиение чисел на натуральные слагаемые\n",
    "splits = {1: [{1: 1}]}"
   ]
  },
  {
   "cell_type": "code",
   "execution_count": 10,
   "metadata": {},
   "outputs": [],
   "source": [
    "# Сложение двух словарей\n",
    "def add_dicts(first, second):\n",
    "    a = first.copy()\n",
    "    for k, v in second.items():\n",
    "        a.setdefault(k, 0)\n",
    "        a[k] += v\n",
    "    return a"
   ]
  },
  {
   "cell_type": "code",
   "execution_count": 11,
   "metadata": {},
   "outputs": [],
   "source": [
    "# Подсчет всех возможных разбиений числа на слагаемых, опираясь на предыдущие вычисления\n",
    "def solve(origin):\n",
    "    splits[origin] = list()\n",
    "    if origin <= look_to:\n",
    "        splits[origin].append({origin: 1})\n",
    "    for step in range(1, origin // 2 + 1):\n",
    "        for first in splits[step]:\n",
    "            for second in splits[origin - step]:\n",
    "                addition = add_dicts(first, second)\n",
    "                if addition not in splits[origin]:\n",
    "                    splits[origin].append(addition)"
   ]
  },
  {
   "cell_type": "code",
   "execution_count": 12,
   "metadata": {},
   "outputs": [],
   "source": [
    "# Восходящий подсчет всех разбиений\n",
    "for i in range(2, look_to + 1):\n",
    "    solve(i)"
   ]
  },
  {
   "cell_type": "code",
   "execution_count": 13,
   "metadata": {},
   "outputs": [],
   "source": [
    "# Сортировка всех разбиений по убыванию\n",
    "for value in splits.values():\n",
    "    value.sort(reverse=True, key=lambda x: sorted(x.keys(), reverse=True))"
   ]
  },
  {
   "cell_type": "code",
   "execution_count": 14,
   "metadata": {},
   "outputs": [],
   "source": [
    "# Максимальная длина послания в кодировке\n",
    "def max_available(tup):\n",
    "    return 16 * tup[0] + 2 * tup[1] + 4 * (tup[2] + tup[3] + tup[4]) + 32"
   ]
  },
  {
   "cell_type": "code",
   "execution_count": 15,
   "metadata": {},
   "outputs": [],
   "source": [
    "# Проверка, что разбиение является подмножеством кодировки\n",
    "def compare(our, their):\n",
    "    for k, v in their.items():\n",
    "        if k not in our or our[k] < v:\n",
    "            return False\n",
    "    return True"
   ]
  },
  {
   "cell_type": "code",
   "execution_count": 16,
   "metadata": {},
   "outputs": [],
   "source": [
    "# Вычитание разбиения из кодировки\n",
    "def remove(our, their):\n",
    "    for k, v in their.items():\n",
    "        our[k] -= v"
   ]
  },
  {
   "cell_type": "code",
   "execution_count": 17,
   "metadata": {},
   "outputs": [],
   "source": [
    "# Функция-показатель эффективности\n",
    "def min_available(tup):\n",
    "    mn = max_available(tup)\n",
    "    tp = {}\n",
    "    for i, b in zip(tup, (16, 2, 4, 4, 4)):\n",
    "        tp.setdefault(i, 0)\n",
    "        tp[i] += b\n",
    "    for i in range(1, look_to + 1):\n",
    "        cnt = 0\n",
    "        tpp = tp.copy()\n",
    "        for p in splits[i]:\n",
    "            while compare(tpp, p):\n",
    "                cnt += 1\n",
    "                remove(tpp, p)\n",
    "        cnt = cnt * i + cnt - 1\n",
    "        if cnt < mn:\n",
    "            mn = cnt\n",
    "    return mn"
   ]
  },
  {
   "cell_type": "code",
   "execution_count": 18,
   "metadata": {},
   "outputs": [],
   "source": [
    "# Перебор всех возможных кодировок\n",
    "value = 0\n",
    "best = ()\n",
    "for a in range(1, look_to + 1):\n",
    "    for b in range(1, look_to + 1):\n",
    "        for c in range(1, look_to + 1):\n",
    "            for d in range(1, look_to + 1):\n",
    "                for e in range(1, look_to + 1):\n",
    "                    coding = (a, b, c, d, e)\n",
    "                    k = min_available(coding)\n",
    "                    if k > value:\n",
    "                        value = k\n",
    "                        best = coding"
   ]
  },
  {
   "cell_type": "code",
   "execution_count": 19,
   "metadata": {},
   "outputs": [
    {
     "name": "stdout",
     "output_type": "stream",
     "text": [
      "(1, 1, 1, 2, 3)\n",
      "43\n",
      "74\n"
     ]
    }
   ],
   "source": [
    "print(best)\n",
    "print(min_available(best))\n",
    "print(max_available(best))"
   ]
  }
 ],
 "metadata": {
  "kernelspec": {
   "display_name": "Python 3",
   "language": "python",
   "name": "python3"
  },
  "language_info": {
   "codemirror_mode": {
    "name": "ipython",
    "version": 3
   },
   "file_extension": ".py",
   "mimetype": "text/x-python",
   "name": "python",
   "nbconvert_exporter": "python",
   "pygments_lexer": "ipython3",
   "version": "3.8.2"
  }
 },
 "nbformat": 4,
 "nbformat_minor": 4
}
